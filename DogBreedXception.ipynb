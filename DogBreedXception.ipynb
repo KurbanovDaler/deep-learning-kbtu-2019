{
  "nbformat": 4,
  "nbformat_minor": 0,
  "metadata": {
    "colab": {
      "name": "Hw.ipynb",
      "provenance": [],
      "collapsed_sections": [],
      "toc_visible": true,
      "include_colab_link": true
    },
    "kernelspec": {
      "name": "python3",
      "display_name": "Python 3"
    },
    "accelerator": "GPU"
  },
  "cells": [
    {
      "cell_type": "markdown",
      "metadata": {
        "id": "view-in-github",
        "colab_type": "text"
      },
      "source": [
        "<a href=\"https://colab.research.google.com/github/RomulusGwelt/deep-learning-kbtu-2019/blob/master/DogBreedXception.ipynb\" target=\"_parent\"><img src=\"https://colab.research.google.com/assets/colab-badge.svg\" alt=\"Open In Colab\"/></a>"
      ]
    },
    {
      "cell_type": "markdown",
      "metadata": {
        "id": "DFyOVMegtY9M",
        "colab_type": "text"
      },
      "source": [
        "Downloading data \n",
        "\n",
        "Note: You need to upload kaggle API token for the following cell\n",
        "\n",
        "\n",
        "\n"
      ]
    },
    {
      "cell_type": "code",
      "metadata": {
        "id": "Bj0IDStK-iYK",
        "colab_type": "code",
        "cellView": "code",
        "colab": {}
      },
      "source": [
        "# Let's make sure the kaggle.json file is present.\n",
        "!ls -lha kaggle.json\n",
        "# Next, install the Kaggle API client.\n",
        "!pip install -q kaggle\n",
        "\n",
        "# The Kaggle API client expects this file to be in ~/.kaggle,\n",
        "# so move it there.\n",
        "!mkdir -p ~/.kaggle\n",
        "!cp kaggle.json ~/.kaggle/\n",
        "\n",
        "# This permissions change avoids a warning on Kaggle tool startup.\n",
        "!chmod 600 ~/.kaggle/kaggle.json\n",
        "\n",
        "#download the dataset for the dog-breed identification challenge https://www.kaggle.com/c/dog-breed-identification\n",
        "!kaggle competitions download -c dog-breed-identification\n",
        "\n",
        "#unzip the downloaded files\n",
        "!unzip test.zip\n",
        "!unzip train.zip\n",
        "!unzip labels.csv.zip\n",
        "!mkdir models"
      ],
      "execution_count": 0,
      "outputs": []
    },
    {
      "cell_type": "markdown",
      "metadata": {
        "id": "3Iy5DyZArkj7",
        "colab_type": "text"
      },
      "source": [
        "Cyclic LR is unfortunately not a part of keras.\n",
        "\n",
        "CyclicLR.py can be found at my google drive or https://github.com/bckenstler/CLR"
      ]
    },
    {
      "cell_type": "code",
      "metadata": {
        "id": "rOYfhjl1AR3r",
        "colab_type": "code",
        "colab": {}
      },
      "source": [
        "\n",
        "# !pip uninstall tensorflow\n",
        "# !pip install tensorflow-gpu\n",
        "\n",
        "from pydrive.auth import GoogleAuth\n",
        "from pydrive.drive import GoogleDrive\n",
        "from google.colab import auth, files\n",
        "from oauth2client.client import GoogleCredentials\n",
        "from mpl_toolkits.mplot3d import Axes3D\n",
        "from sklearn.preprocessing import StandardScaler\n",
        "from keras_preprocessing.image import ImageDataGenerator\n",
        "\n",
        "import matplotlib.pyplot as plt \n",
        "import matplotlib.image as mpimg\n",
        "\n",
        "import numpy as np \n",
        "import pandas as pd \n",
        "\n",
        "from keras.models import Sequential, Model\n",
        "from keras.layers import Dense, Dropout, Flatten, Conv2D, MaxPooling2D, GlobalAveragePooling2D\n",
        "import keras\n",
        "from math import ceil\n",
        "from keras.applications.mobilenet_v2 import MobileNetV2\n",
        "from keras.applications.resnet50 import ResNet50\n",
        "from keras.applications.inception_v3 import InceptionV3\n",
        "# from keras.applications.inception_v3 import preprocess_input\n",
        "# from keras.applications.resnet50 import preprocess_input\n",
        "from keras.applications.xception import preprocess_input\n",
        "import os \n",
        "import tensorflow as tf\n",
        "from tensorflow.python.client import device_lib\n",
        "from keras.callbacks import EarlyStopping, ModelCheckpoint\n",
        "from cyclicLR import CyclicLR\n",
        "from keras.optimizers import Adam, SGD, RMSprop\n",
        "import datetime\n",
        "from keras.applications import xception\n",
        "# print(device_lib.list_local_devices())\n",
        "# sess = tf.Session(config=tf.ConfigProto(log_device_placement=True))\n",
        "# import tensorflow.compat.v1 as tf\n",
        "# tf.disable_v2_behavior()"
      ],
      "execution_count": 0,
      "outputs": []
    },
    {
      "cell_type": "code",
      "metadata": {
        "id": "Tv1EORFB5OTm",
        "colab_type": "code",
        "outputId": "b700e913-8d94-46bd-d204-313e494047c6",
        "colab": {
          "base_uri": "https://localhost:8080/",
          "height": 34
        }
      },
      "source": [
        "print(tf.__version__)"
      ],
      "execution_count": 0,
      "outputs": [
        {
          "output_type": "stream",
          "text": [
            "1.15.0\n"
          ],
          "name": "stdout"
        }
      ]
    },
    {
      "cell_type": "markdown",
      "metadata": {
        "id": "V_LISpZMUC5M",
        "colab_type": "text"
      },
      "source": [
        "# Pre-processing data\n"
      ]
    },
    {
      "cell_type": "code",
      "metadata": {
        "id": "YOD6pTAlW-0w",
        "colab_type": "code",
        "outputId": "41ea4b84-7ac6-4c7f-a125-e31c4a0fcbd8",
        "colab": {
          "base_uri": "https://localhost:8080/",
          "height": 153
        }
      },
      "source": [
        "ds = pd.read_csv('labels.csv')\n",
        "ds['image'] = ds.apply(lambda row: str(row['id']) + \".jpg\", axis=1)\n",
        "ds = ds.sample(frac=1).reset_index(drop=True)\n",
        "ds.head(10)\n",
        "\n",
        "print(ds.head())\n"
      ],
      "execution_count": 0,
      "outputs": [
        {
          "output_type": "stream",
          "text": [
            "                                 id  ...                                 image\n",
            "0  9ce66abbf81462439d6dd6805af1d9a1  ...  9ce66abbf81462439d6dd6805af1d9a1.jpg\n",
            "1  72ef6af03c9603ce6ae39475861fdd64  ...  72ef6af03c9603ce6ae39475861fdd64.jpg\n",
            "2  fa5054c5187c7171c546bd6a46b8346f  ...  fa5054c5187c7171c546bd6a46b8346f.jpg\n",
            "3  c0f1af3542270b1e4f1be3403d17ec35  ...  c0f1af3542270b1e4f1be3403d17ec35.jpg\n",
            "4  168e2da635938b82819b8a45bbd3dd0d  ...  168e2da635938b82819b8a45bbd3dd0d.jpg\n",
            "\n",
            "[5 rows x 3 columns]\n"
          ],
          "name": "stdout"
        }
      ]
    },
    {
      "cell_type": "code",
      "metadata": {
        "id": "yUCmCwaYXcUg",
        "colab_type": "code",
        "colab": {}
      },
      "source": [
        "batch_size = 16"
      ],
      "execution_count": 0,
      "outputs": []
    },
    {
      "cell_type": "code",
      "metadata": {
        "id": "thvCiGwwXc0n",
        "colab_type": "code",
        "colab": {}
      },
      "source": [
        "# image_generator = ImageDataGenerator(\n",
        "#     # rescale=1./255.,\n",
        "#     preprocessing_function=preprocess_input,\n",
        "#     rotation_range=25,\n",
        "#     width_shift_range=0.2,\n",
        "#     height_shift_range=0.2,\n",
        "#     shear_range=0.2,\n",
        "#     zoom_range=0.2,\n",
        "#     horizontal_flip=True,\n",
        "#     fill_mode='nearest',\n",
        "#     validation_split=0.1\n",
        "# )\n",
        "image_generator= ImageDataGenerator(\n",
        "      preprocessing_function=preprocess_input, \n",
        "      # rescale=1./255.,\n",
        "      horizontal_flip=True,\n",
        "      width_shift_range = 0.2,\n",
        "      height_shift_range = 0.2,\n",
        "      validation_split=0.2)"
      ],
      "execution_count": 0,
      "outputs": []
    },
    {
      "cell_type": "code",
      "metadata": {
        "id": "FdDvOEgkUVlH",
        "colab_type": "code",
        "outputId": "ebdc3693-1a85-4c26-c65a-3ce459c17b9d",
        "colab": {
          "base_uri": "https://localhost:8080/",
          "height": 51
        }
      },
      "source": [
        "training_generator = image_generator.flow_from_dataframe(\n",
        "      dataframe=ds,\n",
        "      directory=\"train\",\n",
        "      # directory=\"/content/gdrive/My Drive/Colab Notebooks/train\",\n",
        "      x_col=\"image\",\n",
        "      y_col=\"breed\",\n",
        "      target_size=(299,299),\n",
        "      batch_size=batch_size,\n",
        "      subset=\"training\"\n",
        ")\n",
        "\n",
        "validation_generator = image_generator.flow_from_dataframe(\n",
        "      dataframe=ds,\n",
        "      directory=\"train\",\n",
        "      # directory=\"/content/gdrive/My Drive/Colab Notebooks/train\",\n",
        "      x_col=\"image\",\n",
        "      y_col=\"breed\",\n",
        "      target_size=(299,299),\n",
        "      batch_size=batch_size,\n",
        "      subset=\"validation\"\n",
        ")"
      ],
      "execution_count": 0,
      "outputs": [
        {
          "output_type": "stream",
          "text": [
            "Found 8178 validated image filenames belonging to 120 classes.\n",
            "Found 2044 validated image filenames belonging to 120 classes.\n"
          ],
          "name": "stdout"
        }
      ]
    },
    {
      "cell_type": "code",
      "metadata": {
        "id": "ynCEaoeEarXE",
        "colab_type": "code",
        "colab": {}
      },
      "source": [
        "input_shape = (299, 299, 3)\n",
        "\n",
        "classes = len(training_generator.class_indices)"
      ],
      "execution_count": 0,
      "outputs": []
    },
    {
      "cell_type": "markdown",
      "metadata": {
        "id": "zzqPET-yUl4R",
        "colab_type": "text"
      },
      "source": [
        "# Creating & tweaking a model"
      ]
    },
    {
      "cell_type": "markdown",
      "metadata": {
        "id": "LWEcIw4dUrbU",
        "colab_type": "text"
      },
      "source": [
        "Creating an Xception model with 1 dense layer (1024) with a dropout of 0.25"
      ]
    },
    {
      "cell_type": "code",
      "metadata": {
        "id": "zwGb0yDpavMn",
        "colab_type": "code",
        "colab": {}
      },
      "source": [
        "# base_model = MobileNetV2(input_shape=input_shape, include_top=False, weights='imagenet')\n",
        "# base_model = ResNet50(input_shape=input_shape, include_top=False, weights='imagenet')\n",
        "# base_model = InceptionV3(input_shape=input_shape, include_top=False, weights='imagenet')\n",
        "base_model = xception.Xception(input_shape=input_shape, weights='imagenet', include_top=False)\n",
        "# model = xception.Xception(input_shape=input_shape, weights=None, include_top=True, pooling='avg',classes = classes)\n",
        "\n",
        "x = base_model.output\n",
        "x = GlobalAveragePooling2D()(x)\n",
        "x = Dropout(0.25)(x)\n",
        "x = Dense(1024, activation='relu')(x)\n",
        "x = Dropout(0.25)(x)\n",
        "predictions = Dense(classes, activation='softmax')(x)\n",
        "\n",
        "model = Model(inputs=base_model.input, outputs=predictions)"
      ],
      "execution_count": 0,
      "outputs": []
    },
    {
      "cell_type": "markdown",
      "metadata": {
        "id": "aqre2GXRUz0n",
        "colab_type": "text"
      },
      "source": [
        "Creating an early stopping, so that our model would stop running after X epochs of the stagnation"
      ]
    },
    {
      "cell_type": "code",
      "metadata": {
        "id": "SaiZzSWZsux1",
        "colab_type": "code",
        "colab": {}
      },
      "source": [
        "# checkpoints\n",
        "early_stopping = EarlyStopping(monitor='val_acc', patience=5)\n",
        "STAMP = \"{}_dog_breed_model\".format(datetime.date.today().strftime(\"%Y-%m-%d\"))\n",
        "\n",
        "bst_model_path = \"models/{}.h5\".format(STAMP)\n",
        "model_checkpoint = ModelCheckpoint(bst_model_path,\n",
        "                                   save_best_only=True,\n",
        "                                   save_weights_only=True)\n",
        "\n",
        "# Authors suggest setting step_size = (2-8) x (training iterations in epoch)\n",
        "step_size = 2000\n",
        "clr = CyclicLR(base_lr=0.0001,\n",
        "               max_lr=0.001,\n",
        "               step_size=step_size,\n",
        "               mode='exp_range',\n",
        "               gamma=0.99994)"
      ],
      "execution_count": 0,
      "outputs": []
    },
    {
      "cell_type": "markdown",
      "metadata": {
        "id": "73SHolNjU_qO",
        "colab_type": "text"
      },
      "source": [
        "Compiling model with RMSprop optimizer\n"
      ]
    },
    {
      "cell_type": "code",
      "metadata": {
        "id": "lfJbbKV0s7DT",
        "colab_type": "code",
        "colab": {}
      },
      "source": [
        "for layer in base_model.layers:\n",
        "    layer.trainable = False\n",
        "\n",
        "optimizer = RMSprop(lr=0.001, rho=0.9)\n",
        "# model.compile(loss=keras.losses.categorical_crossentropy,\n",
        "#               optimizer=keras.optimizers.Adadelta(),\n",
        "#               metrics=['accuracy'])\n",
        "\n",
        "model.compile(optimizer=optimizer,\n",
        "              # loss='sparse_categorical_crossentropy',\n",
        "              loss = keras.losses.categorical_crossentropy,\n",
        "              metrics=[\"accuracy\"])"
      ],
      "execution_count": 0,
      "outputs": []
    },
    {
      "cell_type": "markdown",
      "metadata": {
        "id": "6pcbqKaSVEgT",
        "colab_type": "text"
      },
      "source": [
        "**Start training the model**"
      ]
    },
    {
      "cell_type": "code",
      "metadata": {
        "id": "hth2UZJ7swhK",
        "colab_type": "code",
        "outputId": "ebb3597d-dc6d-4c34-98c1-4d0aad6df1cf",
        "colab": {
          "base_uri": "https://localhost:8080/",
          "height": 513
        }
      },
      "source": [
        "hist = model.fit_generator(\n",
        "                           generator=training_generator,\n",
        "                           steps_per_epoch=ceil(0.8 * (ds.size / batch_size)),\n",
        "                           \n",
        "                           validation_data=validation_generator,\n",
        "                           validation_steps=ceil(0.2 * (ds.size / batch_size)),\n",
        "                           \n",
        "                           epochs=50, \n",
        "                           callbacks=[early_stopping, model_checkpoint, clr],\n",
        ")\n",
        "# model.fit_generator(\n",
        "#     generator=training_generator,\n",
        "#     steps_per_epoch=ceil(0.8 * (ds.size / batch_size)),\n",
        "\n",
        "#     validation_data=validation_generator,\n",
        "#     validation_steps=ceil(0.2 * (ds.size / batch_size)),\n",
        "\n",
        "#     epochs=50,\n",
        "#     verbose=1\n",
        "# ) "
      ],
      "execution_count": 71,
      "outputs": [
        {
          "output_type": "stream",
          "text": [
            "Epoch 1/50\n",
            "   4/1534 [..............................] - ETA: 23:33 - loss: 4.8422 - acc: 0.0000e+00"
          ],
          "name": "stdout"
        },
        {
          "output_type": "stream",
          "text": [
            "/usr/local/lib/python3.6/dist-packages/keras/callbacks.py:95: RuntimeWarning: Method (on_train_batch_end) is slow compared to the batch update (0.450467). Check your callbacks.\n",
            "  % (hook_name, delta_t_median), RuntimeWarning)\n"
          ],
          "name": "stderr"
        },
        {
          "output_type": "stream",
          "text": [
            "1534/1534 [==============================] - 566s 369ms/step - loss: 1.2490 - acc: 0.7088 - val_loss: 0.4829 - val_acc: 0.8457\n",
            "Epoch 2/50\n",
            "1534/1534 [==============================] - 554s 361ms/step - loss: 0.6240 - acc: 0.8244 - val_loss: 0.4592 - val_acc: 0.8648\n",
            "Epoch 3/50\n",
            "1534/1534 [==============================] - 554s 361ms/step - loss: 0.3867 - acc: 0.8827 - val_loss: 0.4362 - val_acc: 0.8640\n",
            "Epoch 4/50\n",
            "1534/1534 [==============================] - 554s 361ms/step - loss: 0.4351 - acc: 0.8732 - val_loss: 0.4663 - val_acc: 0.8615\n",
            "Epoch 5/50\n",
            "1534/1534 [==============================] - 558s 364ms/step - loss: 0.3771 - acc: 0.8914 - val_loss: 0.4577 - val_acc: 0.8655\n",
            "Epoch 6/50\n",
            "1534/1534 [==============================] - 558s 364ms/step - loss: 0.2840 - acc: 0.9102 - val_loss: 0.5609 - val_acc: 0.8563\n",
            "Epoch 7/50\n",
            "1534/1534 [==============================] - 560s 365ms/step - loss: 0.3648 - acc: 0.8968 - val_loss: 0.5512 - val_acc: 0.8555\n",
            "Epoch 8/50\n",
            "1534/1534 [==============================] - 559s 364ms/step - loss: 0.2570 - acc: 0.9218 - val_loss: 0.5027 - val_acc: 0.8682\n",
            "Epoch 9/50\n",
            "1534/1534 [==============================] - 556s 362ms/step - loss: 0.2534 - acc: 0.9232 - val_loss: 0.5425 - val_acc: 0.8650\n",
            "Epoch 10/50\n",
            "1534/1534 [==============================] - 556s 363ms/step - loss: 0.2856 - acc: 0.9170 - val_loss: 0.5383 - val_acc: 0.8633\n",
            "Epoch 11/50\n",
            "1534/1534 [==============================] - 554s 361ms/step - loss: 0.2064 - acc: 0.9350 - val_loss: 0.5551 - val_acc: 0.8588\n",
            "Epoch 12/50\n",
            "1534/1534 [==============================] - 556s 363ms/step - loss: 0.2501 - acc: 0.9251 - val_loss: 0.5733 - val_acc: 0.8607\n",
            "Epoch 13/50\n",
            "1534/1534 [==============================] - 556s 362ms/step - loss: 0.2029 - acc: 0.9366 - val_loss: 0.5555 - val_acc: 0.8638\n"
          ],
          "name": "stdout"
        }
      ]
    },
    {
      "cell_type": "markdown",
      "metadata": {
        "id": "uRG6yfjrVO_Y",
        "colab_type": "text"
      },
      "source": [
        "# Saving the model"
      ]
    },
    {
      "cell_type": "code",
      "metadata": {
        "id": "8iKBxUsgawf7",
        "colab_type": "code",
        "colab": {}
      },
      "source": [
        "model.save('model.h5')\n"
      ],
      "execution_count": 0,
      "outputs": []
    },
    {
      "cell_type": "code",
      "metadata": {
        "id": "bMFVAcKOEuek",
        "colab_type": "code",
        "colab": {}
      },
      "source": [
        "auth.authenticate_user()\n",
        "gauth = GoogleAuth()\n",
        "gauth.credentials = GoogleCredentials.get_application_default()\n",
        "drive = GoogleDrive(gauth)\n",
        "\n"
      ],
      "execution_count": 0,
      "outputs": []
    },
    {
      "cell_type": "code",
      "metadata": {
        "id": "ajVfzfjlFpUr",
        "colab_type": "code",
        "outputId": "86fa8b1e-67c5-4af7-f384-50d751c51376",
        "colab": {
          "base_uri": "https://localhost:8080/",
          "height": 34
        }
      },
      "source": [
        "uploaded = drive.CreateFile({'title': 'model.h5'})\n",
        "uploaded.SetContentFile('model.h5')\n",
        "uploaded.Upload()\n",
        "# uploaded.Download()\n",
        "print('Uploaded file with ID {}'.format(uploaded.get('id')))"
      ],
      "execution_count": 74,
      "outputs": [
        {
          "output_type": "stream",
          "text": [
            "Uploaded file with ID 18Z9yq6XYSH5c2vMeuSU1RHB1zwIcuWNF\n"
          ],
          "name": "stdout"
        }
      ]
    },
    {
      "cell_type": "markdown",
      "metadata": {
        "id": "DG_4m_pXVSNp",
        "colab_type": "text"
      },
      "source": [
        "# Predicting outputs for test dataset"
      ]
    },
    {
      "cell_type": "markdown",
      "metadata": {
        "id": "xzXgTRR7VWdE",
        "colab_type": "text"
      },
      "source": [
        "Evaluating our model on validation(just to be sure)"
      ]
    },
    {
      "cell_type": "code",
      "metadata": {
        "id": "Rl66CwxVl6KX",
        "colab_type": "code",
        "outputId": "9696a31c-21ef-4ea7-e8a0-3be5d78238b7",
        "colab": {
          "base_uri": "https://localhost:8080/",
          "height": 34
        }
      },
      "source": [
        "model.evaluate_generator(generator=validation_generator)"
      ],
      "execution_count": 75,
      "outputs": [
        {
          "output_type": "execute_result",
          "data": {
            "text/plain": [
              "[0.5854470241238926, 0.8571428571428571]"
            ]
          },
          "metadata": {
            "tags": []
          },
          "execution_count": 75
        }
      ]
    },
    {
      "cell_type": "markdown",
      "metadata": {
        "id": "mGJc_crrVbfY",
        "colab_type": "text"
      },
      "source": [
        "Unzipping sample csv"
      ]
    },
    {
      "cell_type": "code",
      "metadata": {
        "id": "JXj4sxEcpbiC",
        "colab_type": "code",
        "outputId": "c1c49358-367f-44e0-afc2-2f176c76d807",
        "colab": {
          "base_uri": "https://localhost:8080/",
          "height": 51
        }
      },
      "source": [
        "!unzip sample_submission.csv.zip"
      ],
      "execution_count": 76,
      "outputs": [
        {
          "output_type": "stream",
          "text": [
            "Archive:  sample_submission.csv.zip\n",
            "replace sample_submission.csv? [y]es, [n]o, [A]ll, [N]one, [r]ename: "
          ],
          "name": "stdout"
        }
      ]
    },
    {
      "cell_type": "markdown",
      "metadata": {
        "id": "vO6nBNuSVegU",
        "colab_type": "text"
      },
      "source": [
        "Adding \"image\" column to the csv that represents the path to that image"
      ]
    },
    {
      "cell_type": "code",
      "metadata": {
        "id": "nTCIjDn-oZiK",
        "colab_type": "code",
        "colab": {
          "base_uri": "https://localhost:8080/",
          "height": 374
        },
        "outputId": "77c40df1-1a52-45ff-9ddc-4cc9c0434e8f"
      },
      "source": [
        "testds=pd.read_csv('sample_submission.csv')\n",
        "\n",
        "testds['image'] = testds.apply(lambda row: str(row['id']) + \".jpg\", axis=1)\n",
        "testds = testds.sample(frac=1).reset_index(drop=True)\n",
        "\n",
        "test_datagen=ImageDataGenerator(preprocessing_function=preprocess_input)\n",
        "\n",
        "\n",
        "print(testds.head())\n",
        "print(testds['id'])\n",
        "\n",
        "test_generator = test_datagen.flow_from_dataframe(\n",
        "    dataframe=testds,\n",
        "    directory=\"test\",\n",
        "    x_col='image',\n",
        "    y_col=None,\n",
        "    target_size=(299,299),\n",
        "    batch_size=1,\n",
        "    class_mode=None,\n",
        ")"
      ],
      "execution_count": 77,
      "outputs": [
        {
          "output_type": "stream",
          "text": [
            "                                 id  ...                                 image\n",
            "0  26011b75add6ef201dcc91b41ae9a329  ...  26011b75add6ef201dcc91b41ae9a329.jpg\n",
            "1  16cd0ecab645b8d0629296fe0ee728f0  ...  16cd0ecab645b8d0629296fe0ee728f0.jpg\n",
            "2  f7e3178f426d312a5a06ee7e012efbec  ...  f7e3178f426d312a5a06ee7e012efbec.jpg\n",
            "3  a87389ccf3e82e66fcbab9426d4f50ab  ...  a87389ccf3e82e66fcbab9426d4f50ab.jpg\n",
            "4  f3cbc8bcd54963296f75377d6fe931d3  ...  f3cbc8bcd54963296f75377d6fe931d3.jpg\n",
            "\n",
            "[5 rows x 122 columns]\n",
            "0        26011b75add6ef201dcc91b41ae9a329\n",
            "1        16cd0ecab645b8d0629296fe0ee728f0\n",
            "2        f7e3178f426d312a5a06ee7e012efbec\n",
            "3        a87389ccf3e82e66fcbab9426d4f50ab\n",
            "4        f3cbc8bcd54963296f75377d6fe931d3\n",
            "                       ...               \n",
            "10352    c879dc8583ff90b3ceb67f1206e4c572\n",
            "10353    d6d1131779e16248dcc207f4997b2930\n",
            "10354    5c46331b5091e6152a7949485c8840e7\n",
            "10355    cc93dc31b755472bec8464e4fa33cc3d\n",
            "10356    101957d48b542794672e84eeae2f6595\n",
            "Name: id, Length: 10357, dtype: object\n",
            "Found 10357 validated image filenames.\n"
          ],
          "name": "stdout"
        }
      ]
    },
    {
      "cell_type": "markdown",
      "metadata": {
        "id": "evai3FaJVmIi",
        "colab_type": "text"
      },
      "source": [
        "Run the model on test data"
      ]
    },
    {
      "cell_type": "code",
      "metadata": {
        "id": "H55DXobVrQ5-",
        "colab_type": "code",
        "colab": {
          "base_uri": "https://localhost:8080/",
          "height": 34
        },
        "outputId": "c0d27082-4a12-44a0-e8e3-1f8a8ad1f63e"
      },
      "source": [
        "test_generator.reset()\n",
        "pred=model.predict_generator(test_generator,verbose=1)"
      ],
      "execution_count": 78,
      "outputs": [
        {
          "output_type": "stream",
          "text": [
            "10357/10357 [==============================] - 164s 16ms/step\n"
          ],
          "name": "stdout"
        }
      ]
    },
    {
      "cell_type": "markdown",
      "metadata": {
        "id": "IGuDdi3TVo5-",
        "colab_type": "text"
      },
      "source": [
        "Creating an output csv"
      ]
    },
    {
      "cell_type": "code",
      "metadata": {
        "id": "BEhCDQBPrZkO",
        "colab_type": "code",
        "colab": {
          "base_uri": "https://localhost:8080/",
          "height": 355
        },
        "outputId": "bf9a2915-6a99-419f-8668-4337a5efa275"
      },
      "source": [
        "labels = (training_generator.class_indices)\n",
        "labels = list(labels.keys())\n",
        "df = pd.DataFrame(data=pred,\n",
        "                 columns=labels)\n",
        "\n",
        "columns = list(df)\n",
        "columns.sort()\n",
        "df = df.reindex(columns=columns)\n",
        "\n",
        "filenames = testds[\"id\"]\n",
        "df[\"id\"]  = filenames\n",
        "\n",
        "cols = df.columns.tolist()\n",
        "cols = cols[-1:] + cols[:-1]\n",
        "df = df[cols]\n",
        "df.head()"
      ],
      "execution_count": 79,
      "outputs": [
        {
          "output_type": "execute_result",
          "data": {
            "text/html": [
              "<div>\n",
              "<style scoped>\n",
              "    .dataframe tbody tr th:only-of-type {\n",
              "        vertical-align: middle;\n",
              "    }\n",
              "\n",
              "    .dataframe tbody tr th {\n",
              "        vertical-align: top;\n",
              "    }\n",
              "\n",
              "    .dataframe thead th {\n",
              "        text-align: right;\n",
              "    }\n",
              "</style>\n",
              "<table border=\"1\" class=\"dataframe\">\n",
              "  <thead>\n",
              "    <tr style=\"text-align: right;\">\n",
              "      <th></th>\n",
              "      <th>id</th>\n",
              "      <th>affenpinscher</th>\n",
              "      <th>afghan_hound</th>\n",
              "      <th>african_hunting_dog</th>\n",
              "      <th>airedale</th>\n",
              "      <th>american_staffordshire_terrier</th>\n",
              "      <th>appenzeller</th>\n",
              "      <th>australian_terrier</th>\n",
              "      <th>basenji</th>\n",
              "      <th>basset</th>\n",
              "      <th>beagle</th>\n",
              "      <th>bedlington_terrier</th>\n",
              "      <th>bernese_mountain_dog</th>\n",
              "      <th>black-and-tan_coonhound</th>\n",
              "      <th>blenheim_spaniel</th>\n",
              "      <th>bloodhound</th>\n",
              "      <th>bluetick</th>\n",
              "      <th>border_collie</th>\n",
              "      <th>border_terrier</th>\n",
              "      <th>borzoi</th>\n",
              "      <th>boston_bull</th>\n",
              "      <th>bouvier_des_flandres</th>\n",
              "      <th>boxer</th>\n",
              "      <th>brabancon_griffon</th>\n",
              "      <th>briard</th>\n",
              "      <th>brittany_spaniel</th>\n",
              "      <th>bull_mastiff</th>\n",
              "      <th>cairn</th>\n",
              "      <th>cardigan</th>\n",
              "      <th>chesapeake_bay_retriever</th>\n",
              "      <th>chihuahua</th>\n",
              "      <th>chow</th>\n",
              "      <th>clumber</th>\n",
              "      <th>cocker_spaniel</th>\n",
              "      <th>collie</th>\n",
              "      <th>curly-coated_retriever</th>\n",
              "      <th>dandie_dinmont</th>\n",
              "      <th>dhole</th>\n",
              "      <th>dingo</th>\n",
              "      <th>doberman</th>\n",
              "      <th>...</th>\n",
              "      <th>norwegian_elkhound</th>\n",
              "      <th>norwich_terrier</th>\n",
              "      <th>old_english_sheepdog</th>\n",
              "      <th>otterhound</th>\n",
              "      <th>papillon</th>\n",
              "      <th>pekinese</th>\n",
              "      <th>pembroke</th>\n",
              "      <th>pomeranian</th>\n",
              "      <th>pug</th>\n",
              "      <th>redbone</th>\n",
              "      <th>rhodesian_ridgeback</th>\n",
              "      <th>rottweiler</th>\n",
              "      <th>saint_bernard</th>\n",
              "      <th>saluki</th>\n",
              "      <th>samoyed</th>\n",
              "      <th>schipperke</th>\n",
              "      <th>scotch_terrier</th>\n",
              "      <th>scottish_deerhound</th>\n",
              "      <th>sealyham_terrier</th>\n",
              "      <th>shetland_sheepdog</th>\n",
              "      <th>shih-tzu</th>\n",
              "      <th>siberian_husky</th>\n",
              "      <th>silky_terrier</th>\n",
              "      <th>soft-coated_wheaten_terrier</th>\n",
              "      <th>staffordshire_bullterrier</th>\n",
              "      <th>standard_poodle</th>\n",
              "      <th>standard_schnauzer</th>\n",
              "      <th>sussex_spaniel</th>\n",
              "      <th>tibetan_mastiff</th>\n",
              "      <th>tibetan_terrier</th>\n",
              "      <th>toy_poodle</th>\n",
              "      <th>toy_terrier</th>\n",
              "      <th>vizsla</th>\n",
              "      <th>walker_hound</th>\n",
              "      <th>weimaraner</th>\n",
              "      <th>welsh_springer_spaniel</th>\n",
              "      <th>west_highland_white_terrier</th>\n",
              "      <th>whippet</th>\n",
              "      <th>wire-haired_fox_terrier</th>\n",
              "      <th>yorkshire_terrier</th>\n",
              "    </tr>\n",
              "  </thead>\n",
              "  <tbody>\n",
              "    <tr>\n",
              "      <th>0</th>\n",
              "      <td>26011b75add6ef201dcc91b41ae9a329</td>\n",
              "      <td>7.826669e-12</td>\n",
              "      <td>1.645849e-12</td>\n",
              "      <td>1.765954e-12</td>\n",
              "      <td>4.480172e-10</td>\n",
              "      <td>7.578008e-10</td>\n",
              "      <td>1.408454e-09</td>\n",
              "      <td>5.633014e-13</td>\n",
              "      <td>3.199229e-13</td>\n",
              "      <td>9.997924e-01</td>\n",
              "      <td>2.005383e-05</td>\n",
              "      <td>1.069342e-12</td>\n",
              "      <td>8.176647e-08</td>\n",
              "      <td>1.110525e-10</td>\n",
              "      <td>6.311434e-09</td>\n",
              "      <td>8.010481e-09</td>\n",
              "      <td>2.043302e-08</td>\n",
              "      <td>5.559395e-10</td>\n",
              "      <td>3.264209e-12</td>\n",
              "      <td>5.905691e-13</td>\n",
              "      <td>1.039725e-11</td>\n",
              "      <td>5.467148e-12</td>\n",
              "      <td>2.002303e-11</td>\n",
              "      <td>1.597397e-13</td>\n",
              "      <td>1.591856e-12</td>\n",
              "      <td>3.800524e-07</td>\n",
              "      <td>1.375628e-09</td>\n",
              "      <td>1.683802e-10</td>\n",
              "      <td>1.126989e-10</td>\n",
              "      <td>1.011195e-09</td>\n",
              "      <td>2.627461e-13</td>\n",
              "      <td>1.747168e-09</td>\n",
              "      <td>5.866502e-08</td>\n",
              "      <td>1.185427e-08</td>\n",
              "      <td>9.085994e-11</td>\n",
              "      <td>5.678735e-12</td>\n",
              "      <td>1.199028e-11</td>\n",
              "      <td>4.661217e-11</td>\n",
              "      <td>2.237534e-11</td>\n",
              "      <td>7.987789e-14</td>\n",
              "      <td>...</td>\n",
              "      <td>2.253096e-12</td>\n",
              "      <td>3.455830e-12</td>\n",
              "      <td>5.746121e-09</td>\n",
              "      <td>3.375559e-11</td>\n",
              "      <td>4.201042e-13</td>\n",
              "      <td>2.068750e-11</td>\n",
              "      <td>3.549071e-11</td>\n",
              "      <td>3.502745e-13</td>\n",
              "      <td>5.622672e-11</td>\n",
              "      <td>4.506790e-11</td>\n",
              "      <td>2.081803e-12</td>\n",
              "      <td>5.104230e-12</td>\n",
              "      <td>7.063652e-07</td>\n",
              "      <td>8.855187e-12</td>\n",
              "      <td>5.000700e-10</td>\n",
              "      <td>2.106841e-12</td>\n",
              "      <td>1.006499e-11</td>\n",
              "      <td>1.761435e-10</td>\n",
              "      <td>2.897728e-11</td>\n",
              "      <td>2.616302e-11</td>\n",
              "      <td>3.543702e-10</td>\n",
              "      <td>1.353768e-10</td>\n",
              "      <td>4.075368e-11</td>\n",
              "      <td>7.142895e-11</td>\n",
              "      <td>1.715132e-11</td>\n",
              "      <td>1.136015e-09</td>\n",
              "      <td>6.381316e-12</td>\n",
              "      <td>3.634633e-12</td>\n",
              "      <td>3.564880e-10</td>\n",
              "      <td>5.902145e-09</td>\n",
              "      <td>7.298375e-12</td>\n",
              "      <td>9.654676e-16</td>\n",
              "      <td>7.746580e-14</td>\n",
              "      <td>5.478250e-06</td>\n",
              "      <td>2.830257e-11</td>\n",
              "      <td>1.795497e-04</td>\n",
              "      <td>1.155821e-10</td>\n",
              "      <td>4.517565e-11</td>\n",
              "      <td>1.573942e-11</td>\n",
              "      <td>1.885674e-11</td>\n",
              "    </tr>\n",
              "    <tr>\n",
              "      <th>1</th>\n",
              "      <td>16cd0ecab645b8d0629296fe0ee728f0</td>\n",
              "      <td>1.037244e-09</td>\n",
              "      <td>4.018015e-11</td>\n",
              "      <td>6.582867e-12</td>\n",
              "      <td>6.607528e-10</td>\n",
              "      <td>6.720940e-08</td>\n",
              "      <td>6.239685e-07</td>\n",
              "      <td>2.538525e-09</td>\n",
              "      <td>2.544962e-10</td>\n",
              "      <td>1.690079e-11</td>\n",
              "      <td>6.527962e-09</td>\n",
              "      <td>1.144953e-10</td>\n",
              "      <td>1.729027e-07</td>\n",
              "      <td>1.798264e-10</td>\n",
              "      <td>2.725477e-09</td>\n",
              "      <td>2.700863e-10</td>\n",
              "      <td>1.811146e-09</td>\n",
              "      <td>9.596426e-01</td>\n",
              "      <td>6.111384e-10</td>\n",
              "      <td>1.710388e-08</td>\n",
              "      <td>6.236200e-10</td>\n",
              "      <td>4.069722e-11</td>\n",
              "      <td>1.515150e-11</td>\n",
              "      <td>2.340766e-10</td>\n",
              "      <td>8.095709e-11</td>\n",
              "      <td>1.102697e-09</td>\n",
              "      <td>1.821858e-10</td>\n",
              "      <td>7.302321e-11</td>\n",
              "      <td>4.273624e-07</td>\n",
              "      <td>4.087309e-08</td>\n",
              "      <td>1.472894e-10</td>\n",
              "      <td>4.779327e-10</td>\n",
              "      <td>3.361457e-11</td>\n",
              "      <td>2.965434e-11</td>\n",
              "      <td>4.033021e-02</td>\n",
              "      <td>2.263445e-07</td>\n",
              "      <td>1.016876e-09</td>\n",
              "      <td>4.878202e-11</td>\n",
              "      <td>1.839021e-10</td>\n",
              "      <td>2.654096e-10</td>\n",
              "      <td>...</td>\n",
              "      <td>2.592239e-09</td>\n",
              "      <td>2.205052e-11</td>\n",
              "      <td>2.021598e-08</td>\n",
              "      <td>2.221951e-09</td>\n",
              "      <td>2.164199e-06</td>\n",
              "      <td>1.736328e-10</td>\n",
              "      <td>6.581896e-09</td>\n",
              "      <td>3.038296e-10</td>\n",
              "      <td>6.992799e-10</td>\n",
              "      <td>1.875901e-09</td>\n",
              "      <td>5.518020e-09</td>\n",
              "      <td>1.066896e-10</td>\n",
              "      <td>2.627053e-08</td>\n",
              "      <td>5.606236e-11</td>\n",
              "      <td>1.228279e-06</td>\n",
              "      <td>3.708089e-08</td>\n",
              "      <td>5.055988e-12</td>\n",
              "      <td>1.788864e-09</td>\n",
              "      <td>1.142646e-09</td>\n",
              "      <td>1.651897e-05</td>\n",
              "      <td>3.076752e-09</td>\n",
              "      <td>1.936617e-08</td>\n",
              "      <td>1.377710e-09</td>\n",
              "      <td>7.920455e-12</td>\n",
              "      <td>2.462894e-08</td>\n",
              "      <td>6.076402e-09</td>\n",
              "      <td>1.485348e-09</td>\n",
              "      <td>1.965747e-10</td>\n",
              "      <td>2.154122e-09</td>\n",
              "      <td>2.454217e-09</td>\n",
              "      <td>8.405535e-10</td>\n",
              "      <td>2.970259e-10</td>\n",
              "      <td>2.624035e-10</td>\n",
              "      <td>3.376754e-09</td>\n",
              "      <td>4.222491e-10</td>\n",
              "      <td>4.916017e-09</td>\n",
              "      <td>1.204327e-08</td>\n",
              "      <td>9.559521e-09</td>\n",
              "      <td>2.860146e-09</td>\n",
              "      <td>2.303801e-09</td>\n",
              "    </tr>\n",
              "    <tr>\n",
              "      <th>2</th>\n",
              "      <td>f7e3178f426d312a5a06ee7e012efbec</td>\n",
              "      <td>1.484290e-13</td>\n",
              "      <td>1.279633e-17</td>\n",
              "      <td>5.069432e-17</td>\n",
              "      <td>7.540204e-13</td>\n",
              "      <td>1.675428e-13</td>\n",
              "      <td>2.582845e-13</td>\n",
              "      <td>8.626439e-13</td>\n",
              "      <td>3.309892e-13</td>\n",
              "      <td>4.171074e-14</td>\n",
              "      <td>2.199219e-13</td>\n",
              "      <td>1.165133e-16</td>\n",
              "      <td>2.776754e-14</td>\n",
              "      <td>1.229604e-14</td>\n",
              "      <td>1.737514e-16</td>\n",
              "      <td>3.292234e-15</td>\n",
              "      <td>1.148135e-13</td>\n",
              "      <td>1.066602e-11</td>\n",
              "      <td>5.694096e-14</td>\n",
              "      <td>2.296462e-18</td>\n",
              "      <td>8.323844e-17</td>\n",
              "      <td>2.539969e-15</td>\n",
              "      <td>1.999707e-15</td>\n",
              "      <td>9.367291e-16</td>\n",
              "      <td>1.212896e-18</td>\n",
              "      <td>1.033599e-14</td>\n",
              "      <td>8.609044e-14</td>\n",
              "      <td>4.982994e-12</td>\n",
              "      <td>2.880437e-14</td>\n",
              "      <td>1.673900e-14</td>\n",
              "      <td>1.818491e-15</td>\n",
              "      <td>9.999999e-01</td>\n",
              "      <td>2.952626e-15</td>\n",
              "      <td>1.328181e-14</td>\n",
              "      <td>1.070295e-11</td>\n",
              "      <td>2.905563e-15</td>\n",
              "      <td>1.350332e-14</td>\n",
              "      <td>4.364183e-14</td>\n",
              "      <td>7.780785e-10</td>\n",
              "      <td>1.811512e-15</td>\n",
              "      <td>...</td>\n",
              "      <td>9.882826e-14</td>\n",
              "      <td>4.229307e-10</td>\n",
              "      <td>6.426185e-17</td>\n",
              "      <td>1.009331e-16</td>\n",
              "      <td>6.606369e-16</td>\n",
              "      <td>9.042422e-15</td>\n",
              "      <td>4.079000e-10</td>\n",
              "      <td>5.408045e-10</td>\n",
              "      <td>8.367468e-15</td>\n",
              "      <td>3.124970e-12</td>\n",
              "      <td>1.241884e-13</td>\n",
              "      <td>9.665946e-13</td>\n",
              "      <td>5.820259e-15</td>\n",
              "      <td>4.362115e-16</td>\n",
              "      <td>2.765934e-10</td>\n",
              "      <td>2.373927e-12</td>\n",
              "      <td>1.135216e-15</td>\n",
              "      <td>7.344734e-16</td>\n",
              "      <td>6.753076e-18</td>\n",
              "      <td>1.828021e-13</td>\n",
              "      <td>7.977893e-17</td>\n",
              "      <td>1.304512e-12</td>\n",
              "      <td>3.027344e-14</td>\n",
              "      <td>1.901063e-16</td>\n",
              "      <td>2.668679e-13</td>\n",
              "      <td>1.002714e-11</td>\n",
              "      <td>7.961354e-17</td>\n",
              "      <td>1.357936e-14</td>\n",
              "      <td>1.400592e-07</td>\n",
              "      <td>8.565737e-14</td>\n",
              "      <td>4.355473e-12</td>\n",
              "      <td>7.774886e-16</td>\n",
              "      <td>5.173662e-16</td>\n",
              "      <td>1.065873e-12</td>\n",
              "      <td>2.327952e-16</td>\n",
              "      <td>8.470014e-14</td>\n",
              "      <td>1.360186e-14</td>\n",
              "      <td>3.259121e-15</td>\n",
              "      <td>9.969875e-15</td>\n",
              "      <td>8.504528e-14</td>\n",
              "    </tr>\n",
              "    <tr>\n",
              "      <th>3</th>\n",
              "      <td>a87389ccf3e82e66fcbab9426d4f50ab</td>\n",
              "      <td>1.418605e-14</td>\n",
              "      <td>3.501526e-16</td>\n",
              "      <td>5.486834e-19</td>\n",
              "      <td>2.290498e-14</td>\n",
              "      <td>6.540543e-15</td>\n",
              "      <td>9.439085e-18</td>\n",
              "      <td>1.706431e-14</td>\n",
              "      <td>1.934983e-14</td>\n",
              "      <td>1.510742e-14</td>\n",
              "      <td>8.464101e-13</td>\n",
              "      <td>2.561459e-16</td>\n",
              "      <td>7.802869e-16</td>\n",
              "      <td>1.258097e-11</td>\n",
              "      <td>7.466825e-16</td>\n",
              "      <td>2.148848e-11</td>\n",
              "      <td>9.223856e-15</td>\n",
              "      <td>5.131947e-16</td>\n",
              "      <td>9.615346e-18</td>\n",
              "      <td>8.272394e-18</td>\n",
              "      <td>4.485448e-15</td>\n",
              "      <td>4.524300e-16</td>\n",
              "      <td>1.271371e-15</td>\n",
              "      <td>7.194947e-17</td>\n",
              "      <td>4.362310e-16</td>\n",
              "      <td>4.965911e-12</td>\n",
              "      <td>6.400833e-17</td>\n",
              "      <td>6.926926e-15</td>\n",
              "      <td>1.823261e-16</td>\n",
              "      <td>1.016983e-09</td>\n",
              "      <td>3.143377e-14</td>\n",
              "      <td>2.501561e-15</td>\n",
              "      <td>7.005852e-15</td>\n",
              "      <td>1.092422e-14</td>\n",
              "      <td>5.368746e-15</td>\n",
              "      <td>1.843382e-15</td>\n",
              "      <td>2.632767e-16</td>\n",
              "      <td>4.903310e-17</td>\n",
              "      <td>2.482196e-16</td>\n",
              "      <td>7.108387e-09</td>\n",
              "      <td>...</td>\n",
              "      <td>5.317181e-15</td>\n",
              "      <td>9.676141e-16</td>\n",
              "      <td>6.253354e-14</td>\n",
              "      <td>1.446816e-14</td>\n",
              "      <td>3.374535e-16</td>\n",
              "      <td>1.738920e-14</td>\n",
              "      <td>1.665890e-15</td>\n",
              "      <td>1.013622e-14</td>\n",
              "      <td>5.225506e-16</td>\n",
              "      <td>8.744707e-07</td>\n",
              "      <td>1.031755e-07</td>\n",
              "      <td>4.972118e-16</td>\n",
              "      <td>3.336857e-19</td>\n",
              "      <td>7.065565e-16</td>\n",
              "      <td>3.560732e-13</td>\n",
              "      <td>6.443958e-15</td>\n",
              "      <td>8.414442e-17</td>\n",
              "      <td>4.105920e-13</td>\n",
              "      <td>4.976082e-17</td>\n",
              "      <td>6.275052e-14</td>\n",
              "      <td>4.150170e-13</td>\n",
              "      <td>5.508518e-12</td>\n",
              "      <td>7.785368e-13</td>\n",
              "      <td>1.595745e-16</td>\n",
              "      <td>3.272002e-13</td>\n",
              "      <td>1.422083e-14</td>\n",
              "      <td>1.536530e-15</td>\n",
              "      <td>1.537111e-14</td>\n",
              "      <td>6.641856e-19</td>\n",
              "      <td>1.685167e-15</td>\n",
              "      <td>7.291026e-14</td>\n",
              "      <td>3.758744e-14</td>\n",
              "      <td>9.999990e-01</td>\n",
              "      <td>7.857033e-13</td>\n",
              "      <td>9.444188e-13</td>\n",
              "      <td>9.537795e-17</td>\n",
              "      <td>8.286615e-16</td>\n",
              "      <td>2.512337e-16</td>\n",
              "      <td>7.037536e-16</td>\n",
              "      <td>1.061988e-13</td>\n",
              "    </tr>\n",
              "    <tr>\n",
              "      <th>4</th>\n",
              "      <td>f3cbc8bcd54963296f75377d6fe931d3</td>\n",
              "      <td>1.296737e-12</td>\n",
              "      <td>1.019841e-12</td>\n",
              "      <td>3.414019e-14</td>\n",
              "      <td>7.682771e-11</td>\n",
              "      <td>7.627263e-10</td>\n",
              "      <td>4.351326e-09</td>\n",
              "      <td>2.338486e-12</td>\n",
              "      <td>1.037289e-13</td>\n",
              "      <td>1.773578e-12</td>\n",
              "      <td>5.854301e-09</td>\n",
              "      <td>1.247617e-11</td>\n",
              "      <td>6.456306e-10</td>\n",
              "      <td>2.714362e-09</td>\n",
              "      <td>1.620099e-13</td>\n",
              "      <td>1.397627e-11</td>\n",
              "      <td>2.024063e-10</td>\n",
              "      <td>3.274981e-10</td>\n",
              "      <td>1.328750e-11</td>\n",
              "      <td>1.847342e-12</td>\n",
              "      <td>3.764989e-14</td>\n",
              "      <td>1.564604e-12</td>\n",
              "      <td>4.295526e-12</td>\n",
              "      <td>1.917825e-14</td>\n",
              "      <td>3.157313e-10</td>\n",
              "      <td>9.447834e-13</td>\n",
              "      <td>2.631902e-10</td>\n",
              "      <td>1.666080e-10</td>\n",
              "      <td>4.919851e-12</td>\n",
              "      <td>1.074596e-08</td>\n",
              "      <td>7.108916e-14</td>\n",
              "      <td>1.037345e-11</td>\n",
              "      <td>2.826387e-11</td>\n",
              "      <td>7.745424e-10</td>\n",
              "      <td>4.118146e-11</td>\n",
              "      <td>6.099361e-10</td>\n",
              "      <td>7.911480e-12</td>\n",
              "      <td>1.695022e-12</td>\n",
              "      <td>7.912941e-09</td>\n",
              "      <td>1.448409e-11</td>\n",
              "      <td>...</td>\n",
              "      <td>1.000467e-12</td>\n",
              "      <td>1.687492e-13</td>\n",
              "      <td>1.688822e-10</td>\n",
              "      <td>2.019702e-14</td>\n",
              "      <td>8.669914e-14</td>\n",
              "      <td>3.886509e-11</td>\n",
              "      <td>2.373820e-10</td>\n",
              "      <td>3.383502e-12</td>\n",
              "      <td>7.680661e-11</td>\n",
              "      <td>7.638102e-08</td>\n",
              "      <td>1.583685e-08</td>\n",
              "      <td>3.467434e-09</td>\n",
              "      <td>2.237053e-09</td>\n",
              "      <td>7.914148e-09</td>\n",
              "      <td>1.412210e-10</td>\n",
              "      <td>5.421651e-12</td>\n",
              "      <td>1.125340e-11</td>\n",
              "      <td>2.652940e-10</td>\n",
              "      <td>3.228156e-11</td>\n",
              "      <td>2.022525e-12</td>\n",
              "      <td>1.289756e-11</td>\n",
              "      <td>6.149969e-09</td>\n",
              "      <td>4.426610e-12</td>\n",
              "      <td>9.007357e-11</td>\n",
              "      <td>2.323717e-11</td>\n",
              "      <td>1.310152e-12</td>\n",
              "      <td>1.442030e-12</td>\n",
              "      <td>1.196428e-15</td>\n",
              "      <td>1.328744e-12</td>\n",
              "      <td>2.907775e-11</td>\n",
              "      <td>2.185080e-11</td>\n",
              "      <td>4.458057e-14</td>\n",
              "      <td>6.902673e-12</td>\n",
              "      <td>3.755533e-08</td>\n",
              "      <td>7.815013e-12</td>\n",
              "      <td>2.863718e-13</td>\n",
              "      <td>2.165595e-11</td>\n",
              "      <td>7.264089e-10</td>\n",
              "      <td>3.190046e-12</td>\n",
              "      <td>2.471733e-13</td>\n",
              "    </tr>\n",
              "  </tbody>\n",
              "</table>\n",
              "<p>5 rows × 121 columns</p>\n",
              "</div>"
            ],
            "text/plain": [
              "                                 id  ...  yorkshire_terrier\n",
              "0  26011b75add6ef201dcc91b41ae9a329  ...       1.885674e-11\n",
              "1  16cd0ecab645b8d0629296fe0ee728f0  ...       2.303801e-09\n",
              "2  f7e3178f426d312a5a06ee7e012efbec  ...       8.504528e-14\n",
              "3  a87389ccf3e82e66fcbab9426d4f50ab  ...       1.061988e-13\n",
              "4  f3cbc8bcd54963296f75377d6fe931d3  ...       2.471733e-13\n",
              "\n",
              "[5 rows x 121 columns]"
            ]
          },
          "metadata": {
            "tags": []
          },
          "execution_count": 79
        }
      ]
    },
    {
      "cell_type": "code",
      "metadata": {
        "id": "jIn6yITtriLR",
        "colab_type": "code",
        "colab": {}
      },
      "source": [
        "df.to_csv(\"submission.csv\",index=False)"
      ],
      "execution_count": 0,
      "outputs": []
    },
    {
      "cell_type": "markdown",
      "metadata": {
        "id": "spPSl4L4Vuc8",
        "colab_type": "text"
      },
      "source": [
        "Saving csv to a google drive"
      ]
    },
    {
      "cell_type": "code",
      "metadata": {
        "id": "IA76ua_Ur3NV",
        "colab_type": "code",
        "colab": {
          "base_uri": "https://localhost:8080/",
          "height": 34
        },
        "outputId": "98703463-e663-4f5b-c3fd-2924f14feb91"
      },
      "source": [
        "uploaded = drive.CreateFile({'title': 'submission.csv'})\n",
        "uploaded.SetContentFile('submission.csv')\n",
        "uploaded.Upload()\n",
        "# uploaded.Download()\n",
        "print('Uploaded file with ID {}'.format(uploaded.get('id')))"
      ],
      "execution_count": 83,
      "outputs": [
        {
          "output_type": "stream",
          "text": [
            "Uploaded file with ID 1cAdSyNNO4vGOhVPTtQDHhbdP5XM2aTvZ\n"
          ],
          "name": "stdout"
        }
      ]
    },
    {
      "cell_type": "code",
      "metadata": {
        "id": "sM_m7i_ZmOZM",
        "colab_type": "code",
        "colab": {
          "base_uri": "https://localhost:8080/",
          "height": 34
        },
        "outputId": "d45e059d-6223-4d1a-d48c-b551a8013719"
      },
      "source": [
        "uploaded = drive.CreateFile({'title': 'best.h5'})\n",
        "uploaded.SetContentFile('/content/models/2019-11-18_dog_breed_model.h5')\n",
        "uploaded.Upload()\n",
        "# uploaded.Download()\n",
        "print('Uploaded file with ID {}'.format(uploaded.get('id')))"
      ],
      "execution_count": 84,
      "outputs": [
        {
          "output_type": "stream",
          "text": [
            "Uploaded file with ID 1yUvCRBrEfB8_CadOk8z_9iPBA0KnFVdj\n"
          ],
          "name": "stdout"
        }
      ]
    }
  ]
}